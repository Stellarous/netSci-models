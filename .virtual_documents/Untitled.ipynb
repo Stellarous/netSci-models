import numpy as np
import matplotlib.pyplot as plt
import matplotlib.animation as animation


# parameters
grid_size = 10
num_agents = 5
max_steps = 100


# initialize the grid
grid = np.zeros((grid_size, grid_size))


# initialize agents
agents = []
for _ in range(num_agents):
    agent = {
        'x': np.random.randint(0, grid_size),
        'y': np.random.randint(0, grid_size),
        'direction': np.random.randint(0, 4) # 0: up, 1: right, 2: down, 3: left
    }
agents.append(agent)    


# function to update grid
def update_grid():
    global grid
    grid = np.zeros((grid_size, grid_size))
    for agent in agents:
        grid[agent['y'], agent['x']] = 1



