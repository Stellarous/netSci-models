{
 "cells": [
  {
   "cell_type": "code",
   "execution_count": 2,
   "id": "973af975-40f8-4df0-857a-af84c21b797c",
   "metadata": {},
   "outputs": [],
   "source": [
    "import pandas as pd\n",
    "import networkx as nx\n",
    "import numpy as np\n",
    "from faker import Faker # for fake names"
   ]
  },
  {
   "cell_type": "code",
   "execution_count": 20,
   "id": "9d661c57-1069-44dc-bc69-5a7298b1566f",
   "metadata": {},
   "outputs": [],
   "source": [
    "# generating 30 fake people\n",
    "fake = Faker()\n",
    "num_people = 30\n",
    "\n",
    "# generating attributes\n",
    "nodes = pd.DataFrame({\n",
    "    'id': range(num_people),\n",
    "    'name': [fake.name() for _ in range(num_people)],\n",
    "    'age': np.random.randint(18, 65, num_people),\n",
    "    'role': np.random.choice(['Strudent', 'Teacher', 'Admin'], num_people)\n",
    "})"
   ]
  },
  {
   "cell_type": "code",
   "execution_count": 21,
   "id": "776d6590-83ba-4307-99ae-24a8df010118",
   "metadata": {},
   "outputs": [],
   "source": [
    "# generating a graph\n",
    "G = nx.Graph()\n",
    "\n",
    "# add random nodes to the graph\n",
    "G.add_nodes_from(nodes['id'])\n",
    "\n",
    "# add random edges (relationships)\n",
    "for i in range(num_people):\n",
    "    for j in range(i + 1, num_people):\n",
    "        if np.random.random() < 0.1: # 10% chance of connection\n",
    "            weight = np.random.randint(1, 5) # random interaction strenght\n",
    "            G.add_edge(i, j, weight=weight, type=np.random.choice(['friend', 'colleague']))"
   ]
  },
  {
   "cell_type": "code",
   "execution_count": 22,
   "id": "5c89cc01-271a-49da-8326-02225f5c5f9e",
   "metadata": {},
   "outputs": [
    {
     "name": "stdout",
     "output_type": "stream",
     "text": [
      "Most connected people: [(10, 0.20689655172413793), (13, 0.20689655172413793), (5, 0.1724137931034483)]\n"
     ]
    }
   ],
   "source": [
    "degree_centrality = nx.degree_centrality(G)\n",
    "print(\"Most connected people:\",\n",
    "      sorted(degree_centrality.items(),\n",
    "     key=lambda x: x[1],\n",
    "     reverse=True)[:3])"
   ]
  },
  {
   "cell_type": "code",
   "execution_count": 23,
   "id": "1096fb1c-c2be-4c04-9cee-4aad5d80d2bd",
   "metadata": {},
   "outputs": [
    {
     "name": "stdout",
     "output_type": "stream",
     "text": [
      "Top 5 Most Connected People:\n",
      "Alexis Thompson: 6 connections\n",
      "Charles Gutierrez: 6 connections\n",
      "Matthew Norman: 5 connections\n",
      "Vincent Yates: 5 connections\n",
      "Ryan Perkins: 5 connections\n"
     ]
    }
   ],
   "source": [
    "# Calculate degree centrality (number of connections per person)\n",
    "degree_centrality = nx.degree_centrality(G)  # Returns normalized values (0 to 1)\n",
    "degrees = dict(G.degree())                  # Get raw connection counts\n",
    "\n",
    "# Map node IDs to names\n",
    "node_names = {node_id: nodes.loc[nodes['id'] == node_id, 'name'].values[0] for node_id in G.nodes()}\n",
    "\n",
    "# Sort people by number of connections (descending order)\n",
    "sorted_degrees = sorted(degrees.items(), key=lambda x: x[1], reverse=True)\n",
    "\n",
    "# Print top N people with their names and connection counts\n",
    "num_top = 5  # Change this to show more/fewer people\n",
    "print(f\"Top {num_top} Most Connected People:\")\n",
    "for node_id, degree in sorted_degrees[:num_top]:\n",
    "    print(f\"{node_names[node_id]}: {degree} connections\")"
   ]
  },
  {
   "cell_type": "code",
   "execution_count": null,
   "id": "1007fd8d-d5fa-404b-8c23-bc5f904aa853",
   "metadata": {},
   "outputs": [],
   "source": []
  }
 ],
 "metadata": {
  "kernelspec": {
   "display_name": "Python 3",
   "language": "python",
   "name": "python3"
  },
  "language_info": {
   "codemirror_mode": {
    "name": "ipython",
    "version": 3
   },
   "file_extension": ".py",
   "mimetype": "text/x-python",
   "name": "python",
   "nbconvert_exporter": "python",
   "pygments_lexer": "ipython3",
   "version": "3.9.12"
  }
 },
 "nbformat": 4,
 "nbformat_minor": 5
}
