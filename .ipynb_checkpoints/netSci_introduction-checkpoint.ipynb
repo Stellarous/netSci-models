{
 "cells": [
  {
   "cell_type": "markdown",
   "id": "22ef2a82-fdd0-4e83-8b4d-4e2267061fce",
   "metadata": {},
   "source": [
    "# NetSci\n",
    "Introduction to mathematical and computational models in Network Science."
   ]
  },
  {
   "cell_type": "markdown",
   "id": "ebc449b7-93f6-45a3-92e7-4edf5765ca6e",
   "metadata": {},
   "source": [
    "Network science is an academic field which studies complex networks such as telecommunication networks, computer networks, biological networks, cognitive and semantic networks, and social networks, considering distinct elements or actors represented by nodes (or vertices) and the connections between the elements or actors as links (or edges). The field draws on theories and methods including graph theory from mathematics, statistical mechanics from physics, data mining and information visualization from computer science, inferential modeling from statistics, and social structure from sociology. The United States National Research Council defines network science as \"the study of network representations of physical, biological, and social phenomena leading to predictive models of these phenomena.\"[^1]\n",
    "\n",
    "[^1]: [https://en.wikipedia.org/wiki/Network_science]"
   ]
  },
  {
   "cell_type": "markdown",
   "id": "1225fcdd-1d69-4f74-b27a-3ef6d35b4199",
   "metadata": {},
   "source": []
  }
 ],
 "metadata": {
  "kernelspec": {
   "display_name": "Python 3",
   "language": "python",
   "name": "python3"
  },
  "language_info": {
   "codemirror_mode": {
    "name": "ipython",
    "version": 3
   },
   "file_extension": ".py",
   "mimetype": "text/x-python",
   "name": "python",
   "nbconvert_exporter": "python",
   "pygments_lexer": "ipython3",
   "version": "3.9.12"
  }
 },
 "nbformat": 4,
 "nbformat_minor": 5
}
